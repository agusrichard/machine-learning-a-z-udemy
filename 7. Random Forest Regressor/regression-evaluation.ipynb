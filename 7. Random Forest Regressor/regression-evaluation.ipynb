{
 "cells": [
  {
   "cell_type": "markdown",
   "metadata": {},
   "source": [
    "# Regression Evaluation"
   ]
  },
  {
   "cell_type": "markdown",
   "metadata": {},
   "source": [
    "- R Squared:\n",
    "    - SSres: Sum of Squares of Residuals = Sum(y-yhat)^2\n",
    "    - SStot: Sum of Squares of Totals = Sum(y-yavg)^2\n",
    "    - R squared = 1 - (SSres/SStot)\n",
    "- Adjusted R Squared:\n",
    "    - Take care of bias which R Squared make."
   ]
  }
 ],
 "metadata": {
  "kernelspec": {
   "display_name": "Python 3",
   "language": "python",
   "name": "python3"
  },
  "language_info": {
   "codemirror_mode": {
    "name": "ipython",
    "version": 3
   },
   "file_extension": ".py",
   "mimetype": "text/x-python",
   "name": "python",
   "nbconvert_exporter": "python",
   "pygments_lexer": "ipython3",
   "version": "3.7.3"
  }
 },
 "nbformat": 4,
 "nbformat_minor": 2
}
