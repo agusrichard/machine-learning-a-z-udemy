{
 "cells": [
  {
   "cell_type": "markdown",
   "metadata": {},
   "source": [
    "# Scikit-learn Cheat Sheet"
   ]
  },
  {
   "cell_type": "markdown",
   "metadata": {},
   "source": [
    "1. Regression (Supervised learning):"
   ]
  },
  {
   "cell_type": "markdown",
   "metadata": {},
   "source": [
    "2. Classification (Supervised learning):"
   ]
  },
  {
   "cell_type": "markdown",
   "metadata": {},
   "source": [
    "3. Clustering (Unsupervised learning):\n",
    "    - K-Means Clustering:\n",
    "        - Module: cluster\n",
    "        - Class: KMeans\n",
    "        - Parameters:\n",
    "            - n_clusters __(!!!)__: number of clusters\n",
    "            - init: ('means++') method of initialization\n",
    "            - n_init: number of time the k-means algorithm will be run with different centroid seeds.\n",
    "            - max_iter: maximum number of iterations of the k-means algorithm for a single run\n",
    "        - Methods:\n",
    "        - Attributes:\n",
    "            - inertia_: WCSS\n",
    "            - cluster_centers_: cluster center\n",
    "    - Agglomerative Clustering (Hierarchical Clustering):\n",
    "        - Module: sklearn.cluster \n",
    "        - Class: AgglomerativeClustering\n",
    "        - Parameters:\n",
    "            - n_clusters __{!!!}__: number of clusters\n",
    "            - affinity: distance\n",
    "            - linkage: linkage criterion\n",
    "        - Methods:\n",
    "            - fit_predict\n",
    "        - Attributes\n",
    "        - Support:\n",
    "            - Functions: \n",
    "                - dendrogram \n",
    "                - linkage: Parameter: method <- 'ward': minimizing cluster's variance\n",
    "            - Module: scipy.cluster.hierarchy"
   ]
  },
  {
   "cell_type": "markdown",
   "metadata": {},
   "source": [
    "4. Association Rule Learning:\n",
    "    "
   ]
  },
  {
   "cell_type": "markdown",
   "metadata": {},
   "source": [
    "- Module:\n",
    "- Class:\n",
    "- Parameters:\n",
    "- Methods:\n",
    "- Attributes"
   ]
  }
 ],
 "metadata": {
  "kernelspec": {
   "display_name": "Python 3",
   "language": "python",
   "name": "python3"
  },
  "language_info": {
   "codemirror_mode": {
    "name": "ipython",
    "version": 3
   },
   "file_extension": ".py",
   "mimetype": "text/x-python",
   "name": "python",
   "nbconvert_exporter": "python",
   "pygments_lexer": "ipython3",
   "version": "3.7.3"
  }
 },
 "nbformat": 4,
 "nbformat_minor": 2
}
